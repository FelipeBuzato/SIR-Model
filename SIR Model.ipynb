{
 "cells": [
  {
   "cell_type": "markdown",
   "metadata": {},
   "source": [
    "### Libraries"
   ]
  },
  {
   "cell_type": "code",
   "execution_count": 2,
   "metadata": {},
   "outputs": [],
   "source": [
    "import numpy as np\n",
    "import math\n",
    "import random as rd\n",
    "import matplotlib.pyplot as plt\n",
    "import matplotlib.cm as cm\n",
    "from scipy import stats\n",
    "from scipy.integrate import solve_ivp\n",
    "from scipy.stats import bernoulli\n",
    "from scipy.stats import expon"
   ]
  },
  {
   "cell_type": "code",
   "execution_count": 3,
   "metadata": {},
   "outputs": [],
   "source": [
    " # Description of the model and what it models"
   ]
  },
  {
   "cell_type": "markdown",
   "metadata": {},
   "source": [
    "## **Modèle SIR** - Formulation Déterministe"
   ]
  },
  {
   "cell_type": "markdown",
   "metadata": {},
   "source": [
    "In a population of fixed size **N**, we have:\n",
    "\n",
    "$S(t):$ Part of the population susceptible to the contamination.\n",
    "\n",
    "$I(t):$ Part of the population that is contaminated.\n",
    "\n",
    "$R(t):$ Part of the population that is immune to the illness."
   ]
  },
  {
   "cell_type": "markdown",
   "metadata": {},
   "source": [
    "$$\n",
    "\\left\\{ \\begin{array}{ll}\n",
    "\\frac {dS(t)} {dt}  = -\\frac{\\beta I(t) S(t)}{N},\n",
    "\\\\\n",
    "\\frac {dI(t)} {dt} =  \\frac{\\beta I(t) S(t)}{N} - \\gamma I(t),\n",
    "\\\\\n",
    "\\frac {dR(t)} {dt} = \\gamma I(t)\n",
    "\\end{array} \\right.\n",
    "$$"
   ]
  },
  {
   "cell_type": "markdown",
   "metadata": {},
   "source": [
    "Solving the system of differential equations: "
   ]
  },
  {
   "cell_type": "code",
   "execution_count": 47,
   "metadata": {},
   "outputs": [],
   "source": [
    "# Atributing values to the parameters\n",
    "beta = 5\n",
    "N = 501\n",
    "gamma = 1\n",
    "init_values = [500, 1, 0]\n",
    "sol_interval = np.linspace(0, 1000, 100)"
   ]
  },
  {
   "cell_type": "code",
   "execution_count": 49,
   "metadata": {},
   "outputs": [
    {
     "data": {
      "image/png": "[encoded data removed]",
      "text/plain": [
       "<Figure size 432x288 with 1 Axes>"
      ]
     },
     "metadata": {
      "needs_background": "light"
     },
     "output_type": "display_data"
    }
   ],
   "source": [
    "# Solving and plotting the system \n",
    "def f(t, y):\n",
    "  return [-beta*y[1]*y[0]/N, beta*y[1]*y[0]/N - gamma*y[1], gamma*y[1]]\n",
    "\n",
    "sol = solve_ivp(f, sol_interval, init_values)\n",
    "\n",
    "x_axis_S = [sol.y.T[i][0] for i in range(len(sol.y.T))]\n",
    "x_axis_I = [sol.y.T[i][1] for i in range(len(sol.y.T))]\n",
    "x_axis_R = [sol.y.T[i][2] for i in range(len(sol.y.T))]\n",
    "\n",
    "fig, ax = plt.subplots(figsize=(6,4))\n",
    "plt.plot(sol.t, x_axis_S, label='S(t): Susceptible', color = 'blue')\n",
    "plt.plot(sol.t, x_axis_I, label='I(t): Infected', color = 'orange')\n",
    "plt.plot(sol.t, x_axis_R, label='R(t): Recovered', color = 'green')\n",
    "plt.legend(loc = 'best')\n",
    "plt.title(\"Evolution of the epidemic in the deterministic model\")\n",
    "plt.show()"
   ]
  },
  {
   "cell_type": "markdown",
   "metadata": {},
   "source": [
    "## **Modèle SIR** - Formulation Stochastique\n"
   ]
  },
  {
   "cell_type": "markdown",
   "metadata": {},
   "source": [
    "Chaîne de Markov $(S(t), I(t), R(t), t ≥ 0)$, partant de $(S(0) = N − i_0, I(0) = i_0, R(0) = 0)$ avec probabilités de transition suivantes:\n",
    "\n",
    "$$\n",
    "\\begin{array}{ll}\n",
    "(S, I, R) → (S − 1, I + 1, R) & Taux_1 = \\frac{\\beta I S}{N}\n",
    "\\\\\n",
    "(S, I, R) → (S, I - 1, R + 1) & Taux_2 = \\gamma I\n",
    "\\end{array}\n",
    "$$"
   ]
  },
  {
   "cell_type": "code",
   "execution_count": 52,
   "metadata": {},
   "outputs": [],
   "source": [
    "#Fonction de tirage aléatoire pour les transitions\n",
    "def prob(taux1, taux2):\n",
    "\n",
    "  Probab1 = taux1/(taux1+taux2)\n",
    "  Probab2 = taux2/(taux1+taux2)\n",
    "  \n",
    "  num = rd.random()\n",
    "\n",
    "  if num < Probab1:\n",
    "    return 1\n",
    "  else: return 2"
   ]
  },
  {
   "cell_type": "code",
   "execution_count": 53,
   "metadata": {},
   "outputs": [],
   "source": [
    "# Fonction Epidemie\n",
    "def Epidemie(N, tmax, i0, beta, gamma):\n",
    "\n",
    "  S = np.zeros(tmax)  # Nombre de susceptibes pour chaque instant t.\n",
    "  I = np.zeros(tmax)  # Nombre de infectés pour chaque instant t.\n",
    "  R = np.zeros(tmax)  # Nombre de immunisés pour chaque instant t.\n",
    "  T = np.zeros(tmax)  # Vector d'instants de temps.\n",
    "\n",
    "  # Declaration of the initial state:\n",
    "  S[0] = N - i0\n",
    "  I[0] = i0\n",
    "  R[0] = 0\n",
    "  T[0] = 0\n",
    "\n",
    "  # Propagation of the epidemic:\n",
    "  for i in range(tmax-1):\n",
    "    # case where there are no more infected individuals\n",
    "    if I[i] == 0:\n",
    "      Tfin = T[i]  # end of the epidemic\n",
    "      Rfin = R[i]  # size of the epidemic\n",
    "      for j in range(i+1, tmax):\n",
    "        S[j] = S[i]\n",
    "        I[j] = I[i]\n",
    "        R[j] = R[i]\n",
    "        T[j] =  Tfin\n",
    "      break\n",
    "\n",
    "    # Transition rates\n",
    "    Taux1 = beta*I[i]*S[i]/N\n",
    "    Taux2 = gamma*I[i]\n",
    "    Sum_Taux = Taux1 + Taux2\n",
    "\n",
    "    # Time increase with the help of exponential clocks\n",
    "    increment_temps = np.random.exponential(1/Sum_Taux)\n",
    "    T[i+1] = T[i] + increment_temps\n",
    "\n",
    "    # Probability function for the transition\n",
    "    Transition = prob(Taux1, Taux2)\n",
    "\n",
    "    # Transition\n",
    "    if Transition == 1:\n",
    "      S[i+1] = S[i] - 1\n",
    "      I[i+1] = I[i] + 1\n",
    "      R[i+1] = R[i]\n",
    "\n",
    "    if Transition == 2:\n",
    "      S[i+1] = S[i]\n",
    "      I[i+1] = I[i] - 1\n",
    "      R[i+1] = R[i] + 1\n",
    "\n",
    "  return [T, S, I, R, Tfin, Rfin]"
   ]
  },
  {
   "cell_type": "code",
   "execution_count": 57,
   "metadata": {},
   "outputs": [
    {
     "data": {
      "image/png": "[encoded data removed]",
      "text/plain": [
       "<Figure size 432x288 with 1 Axes>"
      ]
     },
     "metadata": {
      "needs_background": "light"
     },
     "output_type": "display_data"
    },
    {
     "name": "stdout",
     "output_type": "stream",
     "text": [
      "R0_critic = 1.0101010101010102\n",
      "R0 = 2.0\n",
      "End of the epidemic: 20.838925195287853\n",
      "Size of the epidemic: 227.0\n"
     ]
    }
   ],
   "source": [
    "# Definition of the parameters \n",
    "N = 300      # size of the population\n",
    "tmax = N*4   # Maximum nunber of transitions the markov chain will have\n",
    "i0 = 3       # Initial number of infected individuals\n",
    "beta = 1\n",
    "gamma = 0.5\n",
    "\n",
    "# Executing the Epidemic \n",
    "[T, S, I, R, Tfin, Rfin] = Epidemie(N, tmax, i0, beta, gamma)\n",
    "\n",
    "# Plotting the curves\n",
    "plt.plot(T, S, 'b', label = 'Susceptibles')\n",
    "plt.plot(T, I, 'r', label = 'Infected')\n",
    "plt.plot(T, R, 'g', label = 'Immune')\n",
    "\n",
    "plt.axis([0, Tfin, 0, N+50])\n",
    "plt.legend(loc=\"upper right\", fontsize=13)\n",
    "plt.xlabel(\"t\")\n",
    "plt.title(\"Stochastic Epidemic\", fontsize=14)\n",
    "plt.show()\n",
    "\n",
    "print(\"R0_critic =\", N/S[0])\n",
    "print(\"R0 =\", beta/gamma)\n",
    "print(\"End of the epidemic:\", Tfin)\n",
    "print(\"Size of the epidemic:\", Rfin)"
   ]
  },
  {
   "cell_type": "markdown",
   "metadata": {},
   "source": [
    "### Estimation Models for $P(R(\\infty) > K)$"
   ]
  },
  {
   "cell_type": "markdown",
   "metadata": {},
   "source": [
    "From $K= 281$, we have the ocurrence of rare events.\n",
    "Theoretical value calculated from $1,000,000$ Monte-Carlo simulations for **$K = 282$**:    $3.1$ x $10^{-5}$"
   ]
  },
  {
   "cell_type": "markdown",
   "metadata": {},
   "source": [
    "#### $1$: Crude *Monte-Carlo* (**CMC**)"
   ]
  },
  {
   "cell_type": "code",
   "execution_count": null,
   "metadata": {},
   "outputs": [],
   "source": []
  }
 ],
 "metadata": {
  "kernelspec": {
   "display_name": "Python 3",
   "language": "python",
   "name": "python3"
  },
  "language_info": {
   "codemirror_mode": {
    "name": "ipython",
    "version": 3
   },
   "file_extension": ".py",
   "mimetype": "text/x-python",
   "name": "python",
   "nbconvert_exporter": "python",
   "pygments_lexer": "ipython3",
   "version": "3.8.3"
  }
 },
 "nbformat": 4,
 "nbformat_minor": 4
}
